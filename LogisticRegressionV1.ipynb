{
  "nbformat": 4,
  "nbformat_minor": 0,
  "metadata": {
    "colab": {
      "name": "LogisticRegressionV1.ipynb",
      "provenance": [],
      "authorship_tag": "ABX9TyPf98nd8oGGK321YaakIwy+",
      "include_colab_link": true
    },
    "kernelspec": {
      "name": "python3",
      "display_name": "Python 3"
    },
    "language_info": {
      "name": "python"
    }
  },
  "cells": [
    {
      "cell_type": "markdown",
      "metadata": {
        "id": "view-in-github",
        "colab_type": "text"
      },
      "source": [
        "<a href=\"https://colab.research.google.com/github/Madaraka02/mlAlgorithmsFromScratchWithPython/blob/main/LogisticRegressionV1.ipynb\" target=\"_parent\"><img src=\"https://colab.research.google.com/assets/colab-badge.svg\" alt=\"Open In Colab\"/></a>"
      ]
    },
    {
      "cell_type": "code",
      "execution_count": 1,
      "metadata": {
        "id": "JrRu8gF-FjJl"
      },
      "outputs": [],
      "source": [
        "import numpy as np\n",
        "import pandas as pd"
      ]
    },
    {
      "cell_type": "markdown",
      "source": [
        "### f(w,b) = wx+b\n",
        "#### uses sigmoid fn"
      ],
      "metadata": {
        "id": "cwlO5KvHHl9y"
      }
    },
    {
      "cell_type": "code",
      "source": [
        "class LogisticRegression:\n",
        "  def __init__(self, lr=0.001, n_iters=1000):\n",
        "    self.lr = lr\n",
        "    self.n_iters = n_iters\n",
        "    self.bias = None\n",
        "    self.weights = None\n",
        "\n",
        "  def fit(self, X,y):\n",
        "    n_samples, n_features =X.shape\n",
        "    self.weights = np.zeros(n_features)\n",
        "    self.bias = 0\n",
        "\n",
        "    for _ in range(self.n_iters):\n",
        "      linear_model = np.dot(X, self.weights)+self.bias\n",
        "      y_predicted = self._sigmoid(linear_model)\n",
        "\n",
        "      dw = (1/n_samples) * np.dot(X.T, (y_predicted - y))\n",
        "      db = (1/n_samples) * np.sum(y_predicted - y)\n",
        "\n",
        "      self.weights -= self.lr *dw\n",
        "      self.bias -= self.lr *db\n",
        "\n",
        "  def predict(self, x):  \n",
        "      linear_model = np.dot(X, self.weights)+self.bias\n",
        "      y_predicted = self._sigmoid(linear_model)\n",
        "      predicte_class = [1 if i > 0.5 else 0 for i in y_predicted]\n",
        "\n",
        "      return predicte_class\n",
        "\n",
        "  def _sigmoid(self, x):\n",
        "    return 1/(1 + np.exp(-x))    \n"
      ],
      "metadata": {
        "id": "O2gGj5BUFrJU"
      },
      "execution_count": 2,
      "outputs": []
    },
    {
      "cell_type": "code",
      "source": [
        ""
      ],
      "metadata": {
        "id": "JsN58HVqLA_o"
      },
      "execution_count": null,
      "outputs": []
    }
  ]
}