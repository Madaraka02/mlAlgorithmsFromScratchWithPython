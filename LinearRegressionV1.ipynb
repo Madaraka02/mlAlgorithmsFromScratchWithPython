{
  "nbformat": 4,
  "nbformat_minor": 0,
  "metadata": {
    "colab": {
      "name": "LinearRegressionV1.ipynb",
      "provenance": [],
      "collapsed_sections": [],
      "authorship_tag": "ABX9TyMHORIB4Qhh7IoDLyasg5py",
      "include_colab_link": true
    },
    "kernelspec": {
      "name": "python3",
      "display_name": "Python 3"
    },
    "language_info": {
      "name": "python"
    }
  },
  "cells": [
    {
      "cell_type": "markdown",
      "metadata": {
        "id": "view-in-github",
        "colab_type": "text"
      },
      "source": [
        "<a href=\"https://colab.research.google.com/github/Madaraka02/mlAlgorithmsFromScratchWithPython/blob/main/LinearRegressionV1.ipynb\" target=\"_parent\"><img src=\"https://colab.research.google.com/assets/colab-badge.svg\" alt=\"Open In Colab\"/></a>"
      ]
    },
    {
      "cell_type": "markdown",
      "source": [
        "used for predicting continous values\n",
        "### y=mx+b\n",
        "#### MSE -- calculate error -- square error and get mean of all errors\n",
        "\n",
        "### gradient descent --update w=w-lr.dw=>weights b=b-lr.db => bias"
      ],
      "metadata": {
        "id": "lFmxZMGjhfCd"
      }
    },
    {
      "cell_type": "code",
      "source": [
        "import numpy as np"
      ],
      "metadata": {
        "id": "qCfoDN6DQ1zH"
      },
      "execution_count": 1,
      "outputs": []
    },
    {
      "cell_type": "code",
      "execution_count": 3,
      "metadata": {
        "id": "NRa4WxEndLaf"
      },
      "outputs": [],
      "source": [
        "class LinearRegression:\n",
        "  def __init__(self, lr=0.001, n_iterations=1000):\n",
        "    self.lr = lr\n",
        "    self.n_iterations = n_iterations\n",
        "    self.weights = None\n",
        "    self.bias = None\n",
        "\n",
        "  def fit(self, X, y):\n",
        "    # gradient descent\n",
        "    n_samples, n_features = X.shape\n",
        "    self.weights = np.zeros(n_features)\n",
        "    self.bias = 0\n",
        "\n",
        "    for _ in range(self.n_iterations):\n",
        "      y_predicted = np.dot(X, self.weights) + self.bias\n",
        "      dw = (1/n_samples) * np.dot(X.T, (y_predicted - y))\n",
        "      db = (1/n_samples) * np.sum(y_predicted - y)\n",
        "\n",
        "      self.weights -= self.lr *dw\n",
        "      self.bias -= self.lr *db\n",
        "\n",
        "\n",
        "\n",
        "  def predict(self, X):\n",
        "     y_predicted = np.dot(X, self.weights) + self.bias\n",
        "     return y_predicted\n",
        "    "
      ]
    },
    {
      "cell_type": "code",
      "source": [
        ""
      ],
      "metadata": {
        "id": "MYqLClpHQ_48"
      },
      "execution_count": null,
      "outputs": []
    }
  ]
}