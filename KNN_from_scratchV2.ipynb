{
  "nbformat": 4,
  "nbformat_minor": 0,
  "metadata": {
    "colab": {
      "name": "KNN_from_scratchV2.ipynb",
      "provenance": [],
      "authorship_tag": "ABX9TyMqnQxFcPLNYOixQlQ8qo+F",
      "include_colab_link": true
    },
    "kernelspec": {
      "name": "python3",
      "display_name": "Python 3"
    },
    "language_info": {
      "name": "python"
    }
  },
  "cells": [
    {
      "cell_type": "markdown",
      "metadata": {
        "id": "view-in-github",
        "colab_type": "text"
      },
      "source": [
        "<a href=\"https://colab.research.google.com/github/Madaraka02/mlAlgorithmsFromScratchWithPython/blob/main/KNN_from_scratchV2.ipynb\" target=\"_parent\"><img src=\"https://colab.research.google.com/assets/colab-badge.svg\" alt=\"Open In Colab\"/></a>"
      ]
    },
    {
      "cell_type": "code",
      "source": [
        "import numpy as np\n",
        "from collections import Counter\n",
        "import pandas as pd"
      ],
      "metadata": {
        "id": "wE_jujPzWZqq"
      },
      "execution_count": 6,
      "outputs": []
    },
    {
      "cell_type": "markdown",
      "source": [
        "### function for calculating euclidian distance"
      ],
      "metadata": {
        "id": "ELrRvVZxb9I8"
      }
    },
    {
      "cell_type": "code",
      "execution_count": 1,
      "metadata": {
        "id": "RZsp0ZrdL8lo"
      },
      "outputs": [],
      "source": [
        "def distance_ecu(x_train,x_test_point):\n",
        "  \"\"\"\n",
        "  Input:\n",
        "      x_train:corresponding to the training data\n",
        "      x_test_point:corresponding to the test point.\n",
        "  Output:\n",
        "      -distances:The distances between the the test point and each point in the training data.\n",
        "  \"\"\"\n",
        "  distances=[]\n",
        "\n",
        "  for row in range(len(x_train)):## Loop over the rows ofXtrain\n",
        "\n",
        "      current_train_point=x_train[row]#Get them point by point\n",
        "\n",
        "      current_distance=0## Initialize the distance by zero\n",
        "\n",
        "      for col in range(len(current_train_point)):## Loop over the columns of the row\n",
        "\n",
        "          current_distance+=(current_train_point[col]-x_test_point[col])**2\n",
        "          ## Or current_distance=current_distance+(x_train[i]-x_test_point[i])**2\n",
        "      current_distance=np.sqrt(current_distance)\n",
        "      distances.append(current_distance)## Append the distances!\n",
        "  #Store distances inadataframe\n",
        "  distances=pd.DataFrame(data=distances,columns=['dist'])\n",
        "  return distances"
      ]
    },
    {
      "cell_type": "markdown",
      "source": [
        "### function for calculating nearest neighbours"
      ],
      "metadata": {
        "id": "08Ex2lAecLlm"
      }
    },
    {
      "cell_type": "code",
      "source": [
        "def nearest_neighbors(distance_point,K):\n",
        "  \"\"\"\n",
        "  Input:\n",
        "      -distance_point:The distances between the the test point and each point in the training data.\n",
        "        :The number of neighborsK\n",
        "  Output:\n",
        "        df_nearest The nearestKneighbors between the test point and the training data\n",
        "    \"\"\"\n",
        "  #Sort distances using the sort_values function\n",
        "  df_nearest = distance_point.sort_values(by=['dist'],axis=0)\n",
        "  ## Take only the firstKneighbors\n",
        "  df_nearest = df_nearest[K]\n",
        "  return df_nearest"
      ],
      "metadata": {
        "id": "su-p_lO0WUi6"
      },
      "execution_count": 4,
      "outputs": []
    },
    {
      "cell_type": "markdown",
      "source": [
        "### Function for majority vote"
      ],
      "metadata": {
        "id": "KvTKmZF0cZAf"
      }
    },
    {
      "cell_type": "code",
      "source": [
        "def voting(df_nearest,y_train):\n",
        "  \"\"\"\n",
        "  Input:\n",
        "      -df_nearest:Dataframe contains the nearestKneighbors between the Full training dataset and the testing point\n",
        "      -y_train:The labels of the training dataset\n",
        "  Output:\n",
        "      -y_pred:The prediction based on Majority Voting\n",
        "  \"\"\"\n",
        "  ## Use the Counter Object to get the labels withKnearest neighbors\n",
        "  counter_vote=Counter(y_train[df_nearest.index])\n",
        "  y_pred=counter_vote.most_common()[0][0]## Majority Voting!\n",
        "  return y_pred"
      ],
      "metadata": {
        "id": "yQBLiHL3Z5j2"
      },
      "execution_count": 8,
      "outputs": []
    },
    {
      "cell_type": "markdown",
      "source": [
        "### Complete KNN implementation"
      ],
      "metadata": {
        "id": "XZLNH0P3chAu"
      }
    },
    {
      "cell_type": "code",
      "source": [
        "def KNN(x_train,y_train,x_test,K):\n",
        "  \"\"\"\n",
        "  Input:\n",
        "  -x_train:The full training dataset\n",
        "  -y_train:The labels of the training dataset\n",
        "  -x_test:The full test dataset\n",
        "  -K:The number of neighbors\n",
        "  Output:\n",
        "  -y_pred:The prediction for the whole test set based on Majority Voting\n",
        "  \"\"\"\n",
        "  y_pred=[]\n",
        "  ## Loop over all the test set and perform the three steps\n",
        "  for x_test_point in x_test:\n",
        "      distance_point=distance_ecu(x_train,x_test_point)## Step1\n",
        "      df_nearest_point=nearest_neighbors(distance_point,K)## step2\n",
        "      y_pred_point=voting(df_nearest_point,y_train)## Step3\n",
        "      y_pred.append(y_pred_point)\n",
        "  return y_pred"
      ],
      "metadata": {
        "id": "_Tn_K37PamAA"
      },
      "execution_count": 10,
      "outputs": []
    },
    {
      "cell_type": "code",
      "source": [
        ""
      ],
      "metadata": {
        "id": "EogrqWKXb5aX"
      },
      "execution_count": null,
      "outputs": []
    }
  ]
}