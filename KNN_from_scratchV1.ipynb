{
  "nbformat": 4,
  "nbformat_minor": 0,
  "metadata": {
    "colab": {
      "name": "KNN_from_scratchV1.ipynb",
      "provenance": [],
      "authorship_tag": "ABX9TyMTXpxnb8XoNdTZ9nCVWmuA",
      "include_colab_link": true
    },
    "kernelspec": {
      "name": "python3",
      "display_name": "Python 3"
    },
    "language_info": {
      "name": "python"
    }
  },
  "cells": [
    {
      "cell_type": "markdown",
      "metadata": {
        "id": "view-in-github",
        "colab_type": "text"
      },
      "source": [
        "<a href=\"https://colab.research.google.com/github/Madaraka02/mlAlgorithmsFromScratchWithPython/blob/main/KNN_from_scratchV1.ipynb\" target=\"_parent\"><img src=\"https://colab.research.google.com/assets/colab-badge.svg\" alt=\"Open In Colab\"/></a>"
      ]
    },
    {
      "cell_type": "markdown",
      "source": [
        "### Implementing K Nearest Neighbours from scratch with python"
      ],
      "metadata": {
        "id": "f6mvGvFUINGv"
      }
    },
    {
      "cell_type": "code",
      "execution_count": 3,
      "metadata": {
        "id": "agbNZGL6IEVk"
      },
      "outputs": [],
      "source": [
        "import numpy as np\n",
        "from collections import Counter\n",
        "\n",
        "def euclidean_distance(x1,x2):\n",
        "  # np.sqrt(np.sum((x1-x2)**2))\n",
        "  return np.sqrt(np.sum((x1-x2)**2))\n",
        "\n",
        "class KNN:\n",
        "  def __init__(self, k=5):\n",
        "    self.k = k\n",
        "\n",
        "  def fit(self,X,y):\n",
        "    self.X_train = X\n",
        "    self.y_train = y    \n",
        "\n",
        "  def predict(self,X):  \n",
        "    predicted_labels = [self._predict(x) for x in X]\n",
        "    return np.array(predicted_labels)\n",
        "\n",
        "  def _predict(self,x): \n",
        "    # compute distances\n",
        "    distances = [euclidean_distance(x, x_train) for x_train in self.X_train]\n",
        "    # get k nearest neighbours, labels\n",
        "    k_indices = np.argsort(distances)[:self.k]\n",
        "    k_nearest_labels = [self.y_train[i] for i in k_indices]\n",
        "\n",
        "    # majority vote to get most common class\n",
        "    most_common = Counter(k_nearest_labels).most_common(1)\n",
        "\n",
        "    return most_common[0][0]\n",
        "\n"
      ]
    },
    {
      "cell_type": "code",
      "source": [
        ""
      ],
      "metadata": {
        "id": "zF2sZNMJMc4b"
      },
      "execution_count": null,
      "outputs": []
    }
  ]
}